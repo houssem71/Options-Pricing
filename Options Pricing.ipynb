{
  "nbformat": 4,
  "nbformat_minor": 0,
  "metadata": {
    "colab": {
      "name": "Code projet 2.0.ipynb",
      "provenance": []
    },
    "kernelspec": {
      "name": "python3",
      "display_name": "Python 3"
    }
  },
  "cells": [
    {
      "cell_type": "code",
      "metadata": {
        "id": "dEsy9mSsly35"
      },
      "source": [
        "import math\r\n",
        "from math import exp, sqrt,log\r\n",
        "import numpy as np\r\n",
        "import seaborn as sns\r\n",
        "from scipy import stats\r\n",
        "import matplotlib.pyplot as plt\r\n",
        "sns.set()"
      ],
      "execution_count": 1,
      "outputs": []
    },
    {
      "cell_type": "markdown",
      "metadata": {
        "id": "TQxafy0lFSSk"
      },
      "source": [
        "#option pricing "
      ]
    },
    {
      "cell_type": "code",
      "metadata": {
        "id": "533p0evfqaqI"
      },
      "source": [
        "def binomial_tree (T,n,S,volatility,r):\n",
        "#upper and down move\n",
        "  u = exp(volatility * sqrt(T/n))\n",
        "  d = exp(-volatility*sqrt(T/n))\n",
        "#probabilities of getting the upper and the down value \n",
        "  p = (exp((r)*(T/n))-d)/(u-d)\n",
        "  q = 1-p\n",
        "#Binomial tree\n",
        "  St_Tree=np.zeros((n+1, n+1)) \n",
        "  St_Tree[0,0] = S\n",
        "  for i in range(1,n+1):\n",
        "    St_Tree[i,0] = St_Tree[i-1, 0]*d\n",
        "    for j in range(1,i+1):\n",
        "      St_Tree[i,j] = St_Tree[i-1, j-1]*u\n",
        "\n",
        "\n",
        "\n",
        "  return (St_Tree, u, d, p, q)\n",
        "    \n",
        "  \n"
      ],
      "execution_count": 2,
      "outputs": []
    },
    {
      "cell_type": "code",
      "metadata": {
        "id": "dA827qkwvwXT"
      },
      "source": [
        "def CRR_option_price (option_type, call_put, St_Tree,T,n,S,volatility,r, K, u, d, p, q):\r\n",
        "  #initialization \r\n",
        "  optionTree = np.zeros((n+1,n+1))\r\n",
        "  for j in range(n+1):\r\n",
        "  #call_put define the kind of the option if it is a call or a put \r\n",
        "    if call_put== \"Call\":\r\n",
        "            optionTree[n,j] = max(0, St_Tree[n,j]-K)\r\n",
        "    elif call_put == \"Put\":\r\n",
        "            optionTree[n,j] = max(0, K-St_Tree[n,j]) \r\n",
        "  for i in range(n-1,-1,-1):\r\n",
        "    for j in range(i+1):\r\n",
        "      if option_type == \"European\":\r\n",
        "\r\n",
        "        if call_put==\"Call\":\r\n",
        "                    optionTree[i,j] = exp(-r*(T/n))*(q*optionTree[i+1,j]+p*optionTree[i+1,j+1])\r\n",
        "        elif call_put==\"Put\":\r\n",
        "                    optionTree[i,j] = exp(-r*(T/n))*(q*optionTree[i+1,j]+p*optionTree[i+1,j+1])\r\n",
        "\r\n",
        "      elif option_type == \"American\":\r\n",
        "\r\n",
        "        if call_put==\"Call\":\r\n",
        "          discounted_payoff = exp(-r*(T/n))*(q*optionTree[i+1,j]+p*optionTree[i+1,j+1])\r\n",
        "          exercise_payoff = max(St_Tree[i, j] - K, 0)\r\n",
        "          optionTree[i,j] = max(exercise_payoff, discounted_payoff)\r\n",
        "\r\n",
        "        elif call_put==\"Put\":\r\n",
        "          discounted_payoff = exp(-r*(T/n))*(q*optionTree[i+1,j]+p*optionTree[i+1,j+1])\r\n",
        "          exercise_payoff = max(K - St_Tree[i, j], 0)\r\n",
        "          optionTree[i,j] = max(exercise_payoff, discounted_payoff)         \r\n",
        "  return optionTree[0,0]          \r\n"
      ],
      "execution_count": 3,
      "outputs": []
    },
    {
      "cell_type": "code",
      "metadata": {
        "colab": {
          "base_uri": "https://localhost:8080/"
        },
        "id": "pO24sIcIIOVQ",
        "outputId": "4bd01c36-f28c-4d1d-bd63-c18b7de69aa3"
      },
      "source": [
        "T=float(input(\"maturity\"))\r\n",
        "n=int(input(\"number of periods\"))\r\n",
        "S=float(input(\"Spot\"))\r\n",
        "volatility=float(input(\"volatility\"))\r\n",
        "r=float(input(\"interest rate\"))\r\n",
        "K=float(input(\"strike\"))\r\n",
        "option_type =input (\"European or American\")\r\n",
        "call_put = input (\" Call or Put\")"
      ],
      "execution_count": 4,
      "outputs": [
        {
          "output_type": "stream",
          "text": [
            "maturity1\n",
            "number of periods10\n",
            "Spot50\n",
            "volatility0.2\n",
            "interest rate0.05\n",
            "strike50\n",
            "European or AmericanEuropean\n",
            " Call or PutCall\n"
          ],
          "name": "stdout"
        }
      ]
    },
    {
      "cell_type": "code",
      "metadata": {
        "colab": {
          "base_uri": "https://localhost:8080/"
        },
        "id": "zIwaXN91450k",
        "outputId": "07353384-941d-41aa-8b9e-5a97a9affdd2"
      },
      "source": [
        "St_Tree,u,d,p,q=binomial_tree(T,n,S,volatility,r)\r\n",
        "print (\"the price of the option is :  \" ,CRR_option_price(option_type,call_put,St_Tree,T,n,S,volatility,r,K,u,d,p,q))"
      ],
      "execution_count": 5,
      "outputs": [
        {
          "output_type": "stream",
          "text": [
            "the price of the option is :   5.126704522435968\n"
          ],
          "name": "stdout"
        }
      ]
    },
    {
      "cell_type": "markdown",
      "metadata": {
        "id": "qZwlJ92IKpwr"
      },
      "source": [
        "#CRR-BS"
      ]
    },
    {
      "cell_type": "code",
      "metadata": {
        "id": "e0UKLo4u7b9d"
      },
      "source": [
        "\r\n",
        "#choosing a great range of values of n (example 150 )\r\n",
        "range_n=[]\r\n",
        "for i in range (1,150) :\r\n",
        "  range_n.append(i)\r\n",
        "L=[]\r\n",
        "#for each n we calculate the option price using CRR method \r\n",
        "for n in (range_n):\r\n",
        "    St_Tree,u,d,p,q=binomial_tree(T,n,S,volatility,r)\r\n",
        "    L.append(CRR_option_price(option_type,call_put,St_Tree,T,n,S,volatility,r,K,u,d,p,q))\r\n"
      ],
      "execution_count": 6,
      "outputs": []
    },
    {
      "cell_type": "code",
      "metadata": {
        "id": "L868wpRFOpoN"
      },
      "source": [
        "def black_Scholes_pricing(S, K, T, r, volatility):   \r\n",
        "    S = float(S)\r\n",
        "    d1 = (log(S/K)+(r+(0.5*volatility**2))*T)/(volatility*sqrt(T))\r\n",
        "    d2 = d1-(volatility*math.sqrt(T))\r\n",
        "    option_price = S*stats.norm.cdf(d1,0,1) - K*(exp(-r*T))*stats.norm.cdf(d2,0,1)\r\n",
        "    return (option_price)"
      ],
      "execution_count": 7,
      "outputs": []
    },
    {
      "cell_type": "code",
      "metadata": {
        "colab": {
          "base_uri": "https://localhost:8080/",
          "height": 285
        },
        "id": "gDIhXR84SXb3",
        "outputId": "217ad87c-6e25-4542-dc93-b3d87eb856af"
      },
      "source": [
        "#for each n we calculate the option price using BS method \r\n",
        "price=black_Scholes_pricing(S, K, T, r, volatility)\r\n",
        "L_BS=[price for i in range (1,150)]\r\n",
        "plt.plot(range_n, L_BS, 'r',label=\"BS price\")\r\n",
        "plt.plot(range_n, L, 'b',label=\"CRR price\")\r\n",
        "plt.xlabel(\"n\")\r\n",
        "plt.ylabel(\"Option price\")\r\n",
        "plt.legend()\r\n",
        "plt.show()"
      ],
      "execution_count": 8,
      "outputs": [
        {
          "output_type": "display_data",
          "data": {
            "image/png": "[encoded data removed]",
            "text/plain": [
              "<Figure size 432x288 with 1 Axes>"
            ]
          },
          "metadata": {
            "tags": [],
            "needs_background": "light"
          }
        }
      ]
    },
    {
      "cell_type": "markdown",
      "metadata": {
        "id": "q6ljyOovcb4O"
      },
      "source": [
        "as we can see the option price using the CRR method converge to the option price using BS when n is big (n= infinite )"
      ]
    },
    {
      "cell_type": "markdown",
      "metadata": {
        "id": "tVBkVULSeLA1"
      },
      "source": [
        "**if we try to calculate the difference between the two values (Error) we should find it converge to 0 . let's see !!**"
      ]
    },
    {
      "cell_type": "code",
      "metadata": {
        "colab": {
          "base_uri": "https://localhost:8080/",
          "height": 268
        },
        "id": "qnOEWCCJYxd7",
        "outputId": "94aefe97-4062-4981-f8a9-3863a2e455c9"
      },
      "source": [
        "diff=[]\r\n",
        "for n in range_n :\r\n",
        "    differnce = price - CRR_option_price(option_type,call_put,St_Tree,T,n,S,volatility,r,K,u,d,p,q)\r\n",
        "    difference_percent= abs(differnce / price)\r\n",
        "    diff.append (difference_percent)\r\n",
        "plt.plot(range_n, diff, 'r',label=\"Difference\") \r\n",
        "plt.show()\r\n"
      ],
      "execution_count": 10,
      "outputs": [
        {
          "output_type": "display_data",
          "data": {
            "image/png": "[encoded data removed]",
            "text/plain": [
              "<Figure size 432x288 with 1 Axes>"
            ]
          },
          "metadata": {
            "tags": [],
            "needs_background": "light"
          }
        }
      ]
    },
    {
      "cell_type": "code",
      "metadata": {
        "id": "-a5rw7PPfuZJ"
      },
      "source": [
        ""
      ],
      "execution_count": 9,
      "outputs": []
    }
  ]
}